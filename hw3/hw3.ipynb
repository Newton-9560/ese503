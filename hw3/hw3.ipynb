{
 "cells": [
  {
   "cell_type": "markdown",
   "metadata": {},
   "source": [
    "# Homework #3\n",
    "**Name:** Hanwen Li\n",
    "**Email:** lihanwen@seas.upenn.edu  "
   ]
  },
  {
   "cell_type": "code",
   "execution_count": 2,
   "metadata": {},
   "outputs": [],
   "source": [
    "import numpy as np\n",
    "def get_divider(id):\n",
    "    print('**************************************************** Problem {} ****************************************************'.format(id))"
   ]
  },
  {
   "cell_type": "markdown",
   "metadata": {},
   "source": [
    "## Problem #1\n",
    "See the pdf"
   ]
  },
  {
   "cell_type": "markdown",
   "metadata": {},
   "source": [
    "## Problem #2"
   ]
  },
  {
   "cell_type": "code",
   "execution_count": 10,
   "metadata": {},
   "outputs": [],
   "source": [
    "class Problem2():\n",
    "    def __init__(self):\n",
    "        get_divider(2)\n",
    "        self.X = None\n",
    "        self.Y = None\n",
    "        self.P = None\n",
    "        self.L = None\n",
    "\n",
    "\n",
    "    def get_cordinate(self):\n",
    "        self.X = np.random.uniform()\n",
    "        self.Y = np.random.uniform()\n",
    "\n",
    "    def get_distance(self):\n",
    "        return (self.X**2+self.Y**2)**0.5\n",
    "    \n",
    "    def get_probability(self, L):\n",
    "        if L <= 1:\n",
    "            self.P =  L*L*np.pi/4\n",
    "        else:\n",
    "            self.P = np.pi/4*L*L + (L*L-1)**0.5 - L*L*np.arctan((L*L-1)**0.5)\n",
    "\n",
    "    def simulation(self, num):\n",
    "        self.L = np.random.uniform(low=0, high=2)**0.5\n",
    "        self.get_probability(self.L)\n",
    "        distance = []\n",
    "        lay_in = []\n",
    "        for i in range(num):\n",
    "            self.get_cordinate()\n",
    "            distance.append(self.get_distance())\n",
    "            if self.get_distance() <= self.L:\n",
    "                lay_in.append(1)\n",
    "            else:\n",
    "                lay_in.append(0)\n",
    "\n",
    "        return lay_in, distance\n"
   ]
  },
  {
   "cell_type": "code",
   "execution_count": 11,
   "metadata": {},
   "outputs": [
    {
     "name": "stdout",
     "output_type": "stream",
     "text": [
      "**************************************************** Problem 2 ****************************************************\n",
      "The result of simulation is 0.980, while the result of calculation is 0.983, and the average distance is 0.764\n",
      "The result of simulation is 0.802, while the result of calculation is 0.803, and the average distance is 0.764\n",
      "The result of simulation is 0.614, while the result of calculation is 0.617, and the average distance is 0.772\n",
      "The result of simulation is 0.534, while the result of calculation is 0.537, and the average distance is 0.768\n",
      "The result of simulation is 0.392, while the result of calculation is 0.397, and the average distance is 0.763\n",
      "The result of simulation is 0.855, while the result of calculation is 0.856, and the average distance is 0.772\n",
      "The result of simulation is 0.866, while the result of calculation is 0.871, and the average distance is 0.764\n",
      "The result of simulation is 0.948, while the result of calculation is 0.947, and the average distance is 0.769\n",
      "The result of simulation is 0.964, while the result of calculation is 0.963, and the average distance is 0.759\n",
      "The result of simulation is 0.993, while the result of calculation is 0.995, and the average distance is 0.767\n"
     ]
    }
   ],
   "source": [
    "problem2 = Problem2()\n",
    "for i in range(10):\n",
    "    lay_in, distance = problem2.simulation(3000)\n",
    "    print(\"The result of simulation is {:.3f}, while the result of calculation is {:.3f}, and the average distance is {:.3f}\".format(np.mean(lay_in), problem2.P,np.mean(distance)))"
   ]
  },
  {
   "cell_type": "markdown",
   "metadata": {},
   "source": [
    "### Result\n",
    "The result of simulation is 0.980, while the result of calculation is 0.983, and the average distance is 0.764\n",
    "\n",
    "The result of simulation is 0.802, while the result of calculation is 0.803, and the average distance is 0.764\n",
    "\n",
    "The result of simulation is 0.614, while the result of calculation is 0.617, and the average distance is 0.772\n",
    "\n",
    "The result of simulation is 0.534, while the result of calculation is 0.537, and the average distance is 0.768\n",
    "\n",
    "The result of simulation is 0.392, while the result of calculation is 0.397, and the average distance is 0.763\n",
    "\n",
    "The result of simulation is 0.855, while the result of calculation is 0.856, and the average distance is 0.772\n",
    "\n",
    "The result of simulation is 0.866, while the result of calculation is 0.871, and the average distance is 0.764\n",
    "\n",
    "The result of simulation is 0.948, while the result of calculation is 0.947, and the average distance is 0.769\n",
    "\n",
    "The result of simulation is 0.964, while the result of calculation is 0.963, and the average distance is 0.759\n",
    "\n",
    "The result of simulation is 0.993, while the result of calculation is 0.995, and the average distance is 0.767"
   ]
  },
  {
   "cell_type": "markdown",
   "metadata": {},
   "source": [
    "## Problem #3\n",
    "See the pdf"
   ]
  },
  {
   "cell_type": "markdown",
   "metadata": {},
   "source": [
    "## Problem #4\n",
    "See the pdf"
   ]
  },
  {
   "cell_type": "markdown",
   "metadata": {},
   "source": [
    "## Problem #5"
   ]
  },
  {
   "cell_type": "code",
   "execution_count": 12,
   "metadata": {},
   "outputs": [],
   "source": [
    "class Problem5():\n",
    "    def __init__(self):\n",
    "        get_divider(5)\n",
    "        self.A = None\n",
    "        self.B = None\n",
    "        self.C = None\n",
    "\n",
    "    def get_random_variables(self, l):\n",
    "        self.A =  np.random.exponential(l)\n",
    "        self.B = np.random.exponential(l)\n",
    "        self.C = np.random.exponential(l)\n",
    "\n",
    "    def get_discriminant(self):\n",
    "        return self.B**2 - 4*self.A*self.C\n",
    "    \n",
    "    def simulate(self, num, l):\n",
    "        real = []\n",
    "        for i in range(num):\n",
    "            self.get_random_variables(l)\n",
    "            if self.get_discriminant() >= 0:\n",
    "                real.append(1)\n",
    "            else:\n",
    "                real.append(0)\n",
    "        return real"
   ]
  },
  {
   "cell_type": "code",
   "execution_count": 13,
   "metadata": {},
   "outputs": [
    {
     "name": "stdout",
     "output_type": "stream",
     "text": [
      "**************************************************** Problem 5 ****************************************************\n",
      "The result of simulation is 0.340\n",
      "The result of simulation is 0.327\n",
      "The result of simulation is 0.337\n",
      "The result of simulation is 0.335\n",
      "The result of simulation is 0.327\n"
     ]
    }
   ],
   "source": [
    "problem = Problem5()\n",
    "\n",
    "for l in [0.5, 1, 2, 5, 10]:\n",
    "    real = problem.simulate(5000, l)\n",
    "    print(\"The result of simulation is {:.3f}\".format(np.mean(real)))"
   ]
  },
  {
   "cell_type": "markdown",
   "metadata": {},
   "source": [
    "### Result\n",
    "The result of simulation is 0.340\n",
    "\n",
    "The result of simulation is 0.327\n",
    "\n",
    "The result of simulation is 0.337\n",
    "\n",
    "The result of simulation is 0.335\n",
    "\n",
    "The result of simulation is 0.327"
   ]
  },
  {
   "cell_type": "markdown",
   "metadata": {},
   "source": [
    "## problem #6"
   ]
  },
  {
   "cell_type": "code",
   "execution_count": 14,
   "metadata": {},
   "outputs": [],
   "source": [
    "class Problem6():\n",
    "    def __init__(self):\n",
    "        get_divider(6)\n",
    "        self.P = {'A':None, 'B':None}\n",
    "\n",
    "    def set_probability(self):\n",
    "        self.P['A'] = np.random.uniform()\n",
    "        self.P['B'] = np.random.uniform()\n",
    "\n",
    "    def equation(self, question='a'):\n",
    "        if question == 'a':\n",
    "            return self.P['A']/(1-(1-self.P['A'])*(1-self.P['B']))\n",
    "        else:\n",
    "            return (2-self.P['A'])/(self.P['A']+self.P['B']-self.P['A']*self.P['B'])\n",
    "        \n",
    "    def roll(self, role='A'):\n",
    "        if role == 'A':\n",
    "            return np.random.choice([1, 0], p=[self.P['A'], 1 - self.P['A']])\n",
    "        else:\n",
    "            return np.random.choice([1, 0], p=[self.P['B'], 1 - self.P['B']])\n",
    "        \n",
    "    def simulate(self, num):\n",
    "        self.set_probability()\n",
    "        rolls = []\n",
    "        a_wins = []\n",
    "        for i in range(num):\n",
    "            rolls.append(0)\n",
    "            while True:\n",
    "                rolls[i] += 1\n",
    "                if self.roll('A') == 1:\n",
    "                    a_wins.append(1)\n",
    "                    break\n",
    "                else:\n",
    "                    rolls[i] += 1\n",
    "                    if self.roll('B') == 1:\n",
    "                        a_wins.append(0)\n",
    "                        break\n",
    "\n",
    "        return rolls, a_wins\n",
    "            "
   ]
  },
  {
   "cell_type": "code",
   "execution_count": 18,
   "metadata": {},
   "outputs": [
    {
     "name": "stdout",
     "output_type": "stream",
     "text": [
      "**************************************************** Problem 6 ****************************************************\n",
      "The result of simulation is rolls : 1.199 and A wins rolls, a_wins: 0.909\n",
      "The result of calculation is rolls : 1.207 and A wins rolls, a_wins: 0.911\n",
      "--------------------------------------------------\n",
      "The result of simulation is rolls : 1.237 and A wins rolls, a_wins: 0.829\n",
      "The result of calculation is rolls : 1.234 and A wins rolls, a_wins: 0.831\n",
      "--------------------------------------------------\n",
      "The result of simulation is rolls : 1.904 and A wins rolls, a_wins: 0.497\n",
      "The result of calculation is rolls : 1.897 and A wins rolls, a_wins: 0.505\n",
      "--------------------------------------------------\n",
      "The result of simulation is rolls : 2.978 and A wins rolls, a_wins: 0.030\n",
      "The result of calculation is rolls : 2.929 and A wins rolls, a_wins: 0.030\n",
      "--------------------------------------------------\n",
      "The result of simulation is rolls : 2.766 and A wins rolls, a_wins: 0.664\n",
      "The result of calculation is rolls : 2.702 and A wins rolls, a_wins: 0.667\n",
      "--------------------------------------------------\n"
     ]
    }
   ],
   "source": [
    "problem = Problem6()\n",
    "\n",
    "for i in range(5):\n",
    "    rolls, a_wins = problem.simulate(5000)\n",
    "    print(\"The result of simulation is rolls : {:.3f} and A wins rolls, a_wins: {:.3f}\".format(np.mean(rolls), np.mean(a_wins)))\n",
    "    print(\"The result of calculation is rolls : {:.3f} and A wins rolls, a_wins: {:.3f}\".format(problem.equation('b'), problem.equation('a')))\n",
    "    print('-'*50)"
   ]
  },
  {
   "cell_type": "markdown",
   "metadata": {},
   "source": [
    "### Result\n",
    "The result of simulation is rolls : 1.206 and A wins rolls, a_wins: 0.979\n",
    "\n",
    "The result of calculation is rolls : 1.215 and A wins rolls, a_wins: 0.976\n",
    "**************************************************\n",
    "The result of simulation is rolls : 3.061 and A wins rolls, a_wins: 0.083\n",
    "\n",
    "The result of calculation is rolls : 3.052 and A wins rolls, a_wins: 0.083\n",
    "**************************************************\n",
    "The result of simulation is rolls : 1.987 and A wins rolls, a_wins: 0.113\n",
    "\n",
    "The result of calculation is rolls : 1.991 and A wins rolls, a_wins: 0.117\n",
    "**************************************************\n",
    "The result of simulation is rolls : 1.966 and A wins rolls, a_wins: 0.582\n",
    "\n",
    "The result of calculation is rolls : 1.947 and A wins rolls, a_wins: 0.582\n",
    "**************************************************\n",
    "The result of simulation is rolls : 4.196 and A wins rolls, a_wins: 0.774\n",
    "\n",
    "The result of calculation is rolls : 4.208 and A wins rolls, a_wins: 0.773\n",
    "**************************************************"
   ]
  },
  {
   "cell_type": "markdown",
   "metadata": {},
   "source": [
    "## Simulation Problem #6"
   ]
  },
  {
   "cell_type": "code",
   "execution_count": 3,
   "metadata": {},
   "outputs": [],
   "source": [
    "class SimulationProblem:\n",
    "  def __init__(self):\n",
    "    get_divider('Simulation')\n",
    "    self.max_capacity = 250\n",
    "    self.stock = 250\n",
    "    self.demand = None\n",
    "    self.supply = 0\n",
    "    self.profit = 10\n",
    "    self.storage_cost = 6\n",
    "\n",
    "  def set_demand(self):\n",
    "    self.demand = round(np.random.uniform(low=24.5, high=50.5))\n",
    "\n",
    "  def set_supply(self):\n",
    "    self.supply = round(np.random.uniform(low=0.5, high=5.5))\n",
    "\n",
    "  def get_daily_profit(self):\n",
    "    profit = 0\n",
    "    if self.demand > self.stock:\n",
    "      profit += self.stock*self.profit\n",
    "      profit -= (self.demand-self.stock)*self.profit\n",
    "      self.stock = 0\n",
    "    else:\n",
    "      profit += self.demand*self.profit\n",
    "      self.stock -= self.demand\n",
    "\n",
    "    return profit\n",
    "\n",
    "  def get_storage_cost(self, arrive=False):\n",
    "    if arrive:\n",
    "      self.stock += self.max_capacity\n",
    "      self.supply = -1\n",
    "\n",
    "    return -(self.stock - self.max_capacity)*self.storage_cost if self.stock > self.max_capacity else 0\n",
    "\n",
    "  def simulate(self, num, l):\n",
    "    profits = []\n",
    "    for i in range(num):\n",
    "      self.set_demand()\n",
    "      profit = self.get_daily_profit()\n",
    "      if self.supply > 1:\n",
    "        self.supply -= 1\n",
    "        profit += self.get_storage_cost()\n",
    "      elif self.supply == 1:\n",
    "        profit += self.get_storage_cost(arrive=True)\n",
    "      else:\n",
    "        if self.stock < l*self.max_capacity:\n",
    "          self.set_supply()\n",
    "          profit += self.get_storage_cost()\n",
    "      profits.append(profit)\n",
    "\n",
    "    return profits"
   ]
  },
  {
   "cell_type": "code",
   "execution_count": 6,
   "metadata": {},
   "outputs": [
    {
     "name": "stdout",
     "output_type": "stream",
     "text": [
      "**************************************************** Problem Simulation ****************************************************\n",
      "The result of simulation with lambda 0.0 is -375.0\n",
      "The result of simulation with lambda 0.05 is 130.6\n",
      "The result of simulation with lambda 0.1 is 149.2\n",
      "The result of simulation with lambda 0.15 is 167.6\n",
      "The result of simulation with lambda 0.2 is 189.1\n",
      "The result of simulation with lambda 0.25 is 210.6\n",
      "The result of simulation with lambda 0.3 is 222.2\n",
      "The result of simulation with lambda 0.35 is 239.8\n",
      "The result of simulation with lambda 0.4 is 258.2\n",
      "The result of simulation with lambda 0.45 is 273.9\n",
      "The result of simulation with lambda 0.5 is 283.1\n",
      "The result of simulation with lambda 0.55 is 293.6\n",
      "The result of simulation with lambda 0.6 is 300.7\n",
      "The result of simulation with lambda 0.65 is 306.3\n",
      "The result of simulation with lambda 0.7 is 307.6\n",
      "The result of simulation with lambda 0.75 is 308.4\n",
      "The result of simulation with lambda 0.8 is 305.0\n",
      "The result of simulation with lambda 0.85 is 298.4\n",
      "The result of simulation with lambda 0.9 is 289.0\n",
      "The result of simulation with lambda 0.95 is 280.5\n",
      "The result of simulation with lambda 1.0 is 272.5\n"
     ]
    }
   ],
   "source": [
    "problem = SimulationProblem()\n",
    "\n",
    "for i in range(21):\n",
    "  profits = problem.simulate(10000, i/20)\n",
    "  print(\"The result of simulation with lambda {} is {:.1f}\".format(i/20, np.mean(profits)))"
   ]
  },
  {
   "cell_type": "markdown",
   "metadata": {},
   "source": [
    "### Result\n",
    "The max profit is achieved when lambda is in [0.65, 0.7]"
   ]
  }
 ],
 "metadata": {
  "kernelspec": {
   "display_name": "base",
   "language": "python",
   "name": "python3"
  },
  "language_info": {
   "codemirror_mode": {
    "name": "ipython",
    "version": 3
   },
   "file_extension": ".py",
   "mimetype": "text/x-python",
   "name": "python",
   "nbconvert_exporter": "python",
   "pygments_lexer": "ipython3",
   "version": "3.11.5"
  }
 },
 "nbformat": 4,
 "nbformat_minor": 2
}
