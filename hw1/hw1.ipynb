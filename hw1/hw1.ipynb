{
 "cells": [
  {
   "cell_type": "markdown",
   "source": [
    "# Import the package"
   ],
   "metadata": {
    "collapsed": false
   },
   "id": "77fe6bf0d3c160c6"
  },
  {
   "cell_type": "code",
   "outputs": [],
   "source": [
    "import math\n",
    "import numpy as np"
   ],
   "metadata": {
    "collapsed": false,
    "ExecuteTime": {
     "end_time": "2024-02-04T00:11:12.186765330Z",
     "start_time": "2024-02-04T00:11:12.172947697Z"
    }
   },
   "id": "2ba2cfa3a1f6694",
   "execution_count": 1
  },
  {
   "cell_type": "markdown",
   "source": [
    "# Problem 1"
   ],
   "metadata": {
    "collapsed": false
   },
   "id": "2cb02cb611116b1d"
  },
  {
   "cell_type": "code",
   "outputs": [],
   "source": [
    "def get_perimeter(x1, x2, x3, y1, y2, y3):\n",
    "    \"\"\"\n",
    "    Calculates the perimeter of a triangle from its vertex coordinates.\n",
    "    \n",
    "    :param x1: X-coordinate of the first vertex.\n",
    "    :param x2: X-coordinate of the second vertex.\n",
    "    :param x3: X-coordinate of the third vertex.\n",
    "    :param y1: Y-coordinate of the first vertex.\n",
    "    :param y2: Y-coordinate of the second vertex.\n",
    "    :param y3: Y-coordinate of the third vertex.\n",
    "    :return: Perimeter of the triangle as a float.\n",
    "    \"\"\"\n",
    "    return ((x1 - x2) ** 2 + (y1 - y2) ** 2) ** 0.5 + ((x1 - x3) ** 2 + (y1 - y3) ** 2) ** 0.5 + (\n",
    "                (x2 - x3) ** 2 + (y2 - y3) ** 2) ** 0.5\n",
    "\n",
    "\n",
    "def get_area(x1, x2, x3, y1, y2, y3):\n",
    "    \"\"\"\n",
    "    Calculates the area of a triangle using the vertex coordinates based on the Shoelace formula.\n",
    "    \n",
    "    :param x1: X-coordinate of the first vertex.\n",
    "    :param x2: X-coordinate of the second vertex.\n",
    "    :param x3: X-coordinate of the third vertex.\n",
    "    :param y1: Y-coordinate of the first vertex.\n",
    "    :param y2: Y-coordinate of the second vertex.\n",
    "    :param y3: Y-coordinate of the third vertex.\n",
    "    :return: Area of the triangle as a float.\n",
    "    \"\"\"\n",
    "    return 0.5 * abs((x1 * y2 - x2 * y1) + (x2 * y3 - x3 * y2) + (x3 * y1 - x1 * y3))\n",
    "\n",
    "\n",
    "def is_obtuse(x1, x2, x3, y1, y2, y3):\n",
    "    \"\"\"\n",
    "    Determines if a triangle is obtuse based on its vertex coordinates.\n",
    "    \n",
    "    The function calculates the dot products of vectors formed by the triangle's sides\n",
    "    to determine if any angle is obtuse. An obtuse angle exists if the dot product\n",
    "    of any two sides' vectors is negative, indicating an angle greater than 90 degrees.\n",
    "    \n",
    "    :param x1: X-coordinate of the first vertex.\n",
    "    :param x2: X-coordinate of the second vertex.\n",
    "    :param x3: X-coordinate of the third vertex.\n",
    "    :param y1: Y-coordinate of the first vertex.\n",
    "    :param y2: Y-coordinate of the second vertex.\n",
    "    :param y3: Y-coordinate of the third vertex.\n",
    "    :return: 0 if the triangle is not obtuse, 1 if it is obtuse.\n",
    "    \"\"\"\n",
    "    vector1 = (x2 - x1) * (x3 - x1) + (y2 - y1) * (y3 - y1)\n",
    "    vector2 = (x3 - x2) * (x1 - x2) + (y3 - y2) * (y1 - y2)\n",
    "    vector3 = (x1 - x3) * (x2 - x3) + (y1 - y3) * (y2 - y3)\n",
    "    if vector1 > 0 and vector2 > 0 and vector3 > 0:\n",
    "        return 0\n",
    "    else:\n",
    "        return 1"
   ],
   "metadata": {
    "collapsed": false,
    "ExecuteTime": {
     "end_time": "2024-02-04T00:11:12.231960496Z",
     "start_time": "2024-02-04T00:11:12.189802408Z"
    }
   },
   "id": "5447f8937532bb41",
   "execution_count": 2
  },
  {
   "cell_type": "code",
   "outputs": [
    {
     "name": "stdout",
     "output_type": "stream",
     "text": [
      "The average perimeter of 5000 Monte-Carlo Simulations is 1.5709539470533842\n",
      "The average area of 5000 Monte-Carlo Simulations is 0.07665937893490782\n",
      "The probability that this triangle is obtuse of 5000 Monte-Carlo Simulations is 0.7276\n"
     ]
    }
   ],
   "source": [
    "perimeters = []\n",
    "areas = []\n",
    "obtuses = []\n",
    "for i in range(0, 5000):\n",
    "    x1, y1, x2, y2, x3, y3 = tuple(np.random.rand(6))\n",
    "    perimeters.append(get_perimeter(x1, x2, x3, y1, y2, y3))\n",
    "    areas.append(get_area(x1, x2, x3, y1, y2, y3))\n",
    "    obtuses.append(is_obtuse(x1, x2, x3, y1, y2, y3))\n",
    "\n",
    "average_perimeter = np.mean(perimeters)\n",
    "average_area = np.mean(areas)\n",
    "probability_obtuse = np.mean(obtuses)\n",
    "\n",
    "print(\"The average perimeter of 5000 Monte-Carlo Simulations is {}\".format(average_perimeter))\n",
    "print(\"The average area of 5000 Monte-Carlo Simulations is {}\".format(average_area))\n",
    "print(\"The probability that this triangle is obtuse of 5000 Monte-Carlo Simulations is {}\".format(probability_obtuse))"
   ],
   "metadata": {
    "collapsed": false,
    "ExecuteTime": {
     "end_time": "2024-02-04T00:11:12.232806647Z",
     "start_time": "2024-02-04T00:11:12.231928753Z"
    }
   },
   "id": "594cf286e5bc6ab9",
   "execution_count": 3
  },
  {
   "cell_type": "markdown",
   "source": [
    "**Result**:\n",
    "The average perimeter of 5000 Monte-Carlo Simulations is 1.5659643689857432\n",
    "The average area of 5000 Monte-Carlo Simulations is 0.0759041132541655\n",
    "The probability that this triangle is obtuse of 5000 Monte-Carlo Simulations is 0.7306"
   ],
   "metadata": {
    "collapsed": false
   },
   "id": "c1c592006e7d2de7"
  },
  {
   "cell_type": "markdown",
   "source": [
    "# Problem 2"
   ],
   "metadata": {
    "collapsed": false
   },
   "id": "500f87a9b5d611ae"
  },
  {
   "cell_type": "code",
   "outputs": [],
   "source": [
    "def discriminant(a, b, c):\n",
    "    \"\"\"\n",
    "    Calculates the discriminant of a quadratic equation ax^2 + bx + c = 0.\n",
    "    \n",
    "    The discriminant is a mathematical expression (b^2 - 4ac) used to determine the \n",
    "    nature of the roots of a quadratic equation. If the discriminant is positive, the \n",
    "    equation has two distinct real roots. If it is zero, the equation has exactly one real root.\n",
    "    If negative, the equation has two complex (imaginary) roots.\n",
    "    \n",
    "    :param a: Coefficient of x^2.\n",
    "    :param b: Coefficient of x.\n",
    "    :param c: Constant term.\n",
    "    :return: The value of the discriminant.\n",
    "    \"\"\"\n",
    "    return b * b - 4 * a * c\n",
    "\n",
    "\n",
    "def have_real_roots(a, b, c):\n",
    "    \"\"\"\n",
    "    Determines if a quadratic equation has real roots based on its coefficients.\n",
    "    \n",
    "    This function uses the discriminant (b^2 - 4ac) of the quadratic equation ax^2 + bx + c = 0\n",
    "    to check for the presence of real roots. A quadratic equation has real roots if its discriminant\n",
    "    is greater than or equal to zero.\n",
    "    \n",
    "    :param a: Coefficient of x^2.\n",
    "    :param b: Coefficient of x.\n",
    "    :param c: Constant term.\n",
    "    :return: 1 if the equation has real roots, 0 otherwise.\n",
    "    \"\"\"\n",
    "    if discriminant(a, b, c) >= 0:\n",
    "        return 1\n",
    "    else:\n",
    "        return 0\n",
    "\n",
    "\n",
    "def solve_equation(a, b, c):\n",
    "    \"\"\"\n",
    "    Solves a quadratic equation ax^2 + bx + c = 0 and returns its roots.\n",
    "    \n",
    "    This function calculates the roots using the quadratic formula: (-b ± sqrt(b^2 - 4ac)) / (2a).\n",
    "    It assumes that the discriminant (D = b^2 - 4ac) is non-negative, which means the equation\n",
    "    has real roots. If D is negative, math.sqrt(D) will raise a ValueError due to taking the square root\n",
    "    of a negative number.\n",
    "    \n",
    "    :param a: Coefficient of x^2, must be non-zero.\n",
    "    :param b: Coefficient of x.\n",
    "    :param c: Constant term.\n",
    "    :return: A tuple containing the two roots of the quadratic equation. If the discriminant is zero,\n",
    "             the two roots are identical.\n",
    "    \"\"\"\n",
    "    D = discriminant(a, b, c)\n",
    "    root1 = (-b + math.sqrt(D)) / (2 * a)\n",
    "    root2 = (-b - math.sqrt(D)) / (2 * a)\n",
    "    return root1, root2"
   ],
   "metadata": {
    "collapsed": false,
    "ExecuteTime": {
     "end_time": "2024-02-04T00:11:12.233438747Z",
     "start_time": "2024-02-04T00:11:12.232258948Z"
    }
   },
   "id": "8a208716dbc38f3a",
   "execution_count": 4
  },
  {
   "cell_type": "code",
   "outputs": [
    {
     "name": "stdout",
     "output_type": "stream",
     "text": [
      "The probability that both roots of this equation are real of 5000 Monte-Carlo Simulations is 0.2496\n",
      "The root1 of this equation of 5000 Monte-Carlo Simulations is -0.5553049970962833\n",
      "The root2 of this equation of 5000 Monte-Carlo Simulations is -15.291818031589457\n"
     ]
    }
   ],
   "source": [
    "have_real_roots_list = []\n",
    "for i in range(5000):\n",
    "    a, b, c = tuple(np.random.rand(3))\n",
    "    have_real_roots_list.append(have_real_roots(a, b, c))\n",
    "\n",
    "roots1 = []\n",
    "roots2 = []\n",
    "while True:\n",
    "    a, b, c = tuple(np.random.rand(3))\n",
    "    if discriminant(a, b, c) >= 0:\n",
    "        root1, root2 = solve_equation(a, b, c)\n",
    "        roots1.append(root1)\n",
    "        roots2.append(root2)\n",
    "        if len(roots1) > 5000:\n",
    "            break\n",
    "\n",
    "print(\"The probability that both roots of this equation are real of 5000 Monte-Carlo Simulations is {}\".format(\n",
    "    np.mean(have_real_roots_list)))\n",
    "print(\"The root1 of this equation of 5000 Monte-Carlo Simulations is {}\".format(np.mean(roots1)))\n",
    "print(\"The root2 of this equation of 5000 Monte-Carlo Simulations is {}\".format(np.mean(roots2)))"
   ],
   "metadata": {
    "collapsed": false,
    "ExecuteTime": {
     "end_time": "2024-02-04T00:11:12.273809929Z",
     "start_time": "2024-02-04T00:11:12.232466942Z"
    }
   },
   "id": "8f880ef844d6c18",
   "execution_count": 5
  },
  {
   "cell_type": "markdown",
   "source": [
    "**Result:**\n",
    "The probability that both roots of this equation are real of 5000 Monte-Carlo Simulations is 0.2546\n",
    "The root1 of this equation of 5000 Monte-Carlo Simulations is -0.5767142878400107\n",
    "The root2 of this equation of 5000 Monte-Carlo Simulations is -14.32722766903135"
   ],
   "metadata": {
    "collapsed": false
   },
   "id": "6e814f77cf2c3ab4"
  },
  {
   "cell_type": "markdown",
   "source": [
    "# Problem 3"
   ],
   "metadata": {
    "collapsed": false
   },
   "id": "a819024ad0c28e2f"
  },
  {
   "cell_type": "code",
   "outputs": [],
   "source": [
    "def distance_point_to_line_segment(A, B, C):\n",
    "    \"\"\"\n",
    "    Calculates the shortest distance from a point to a line segment.\n",
    "    \n",
    "    Given a line segment defined by points A and B, and a point C, this function calculates \n",
    "    the shortest distance from C to the line segment AB. It does so by projecting point C onto \n",
    "    the line defined by A and B, determining if the projected point lies within the segment, \n",
    "    and calculating the distance from C to the closest point on AB.\n",
    "    \n",
    "    :param A: The starting point of the line segment as a NumPy array.\n",
    "    :param B: The ending point of the line segment as a NumPy array.\n",
    "    :param C: The point from which the distance is measured as a NumPy array.\n",
    "    :return: The shortest distance from point C to the line segment AB as a float.\n",
    "    \"\"\"\n",
    "    AB = B - A\n",
    "    AC = C - A\n",
    "    t = np.dot(AC, AB) / np.dot(AB, AB)\n",
    "\n",
    "    if t < 0.0:\n",
    "        nearest_point = A\n",
    "    elif t > 1.0:\n",
    "        nearest_point = B\n",
    "    else:\n",
    "        nearest_point = A + t * AB\n",
    "\n",
    "    return np.linalg.norm(C - nearest_point)\n",
    "\n",
    "\n",
    "def intersect(A, B, C, R):\n",
    "    \"\"\"\n",
    "    Determines if a circle intersects with a line segment.\n",
    "    \n",
    "    This function checks if the shortest distance from the center of the circle (point C) to \n",
    "    the line segment AB is less than or equal to the radius of the circle (R). If so, it indicates \n",
    "    that the circle and the line segment intersect.\n",
    "    \n",
    "    :param A: The starting point of the line segment as a NumPy array.\n",
    "    :param B: The ending point of the line segment as a NumPy array.\n",
    "    :param C: The center of the circle as a NumPy array.\n",
    "    :param R: The radius of the circle as a float.\n",
    "    :return: 1 if the circle and the line segment intersect, 0 otherwise.\n",
    "    \"\"\"\n",
    "    if distance_point_to_line_segment(A, B, C) <= R:\n",
    "        return 1\n",
    "    else:\n",
    "        return 0"
   ],
   "metadata": {
    "collapsed": false,
    "ExecuteTime": {
     "end_time": "2024-02-04T00:11:12.274196352Z",
     "start_time": "2024-02-04T00:11:12.266184036Z"
    }
   },
   "id": "65b34ceb403b6f91",
   "execution_count": 6
  },
  {
   "cell_type": "code",
   "outputs": [
    {
     "name": "stdout",
     "output_type": "stream",
     "text": [
      "The probability that the line intersects the circle of 5000 Monte-Carlo Simulations is 0.6474\n"
     ]
    }
   ],
   "source": [
    "is_intersect = []\n",
    "for i in range(5000):\n",
    "    end1 = np.random.rand(2)\n",
    "    end2 = np.random.rand(2)\n",
    "    center = np.random.rand(2)\n",
    "    radius = np.random.rand()\n",
    "    is_intersect.append(intersect(end1, end2, center, radius))\n",
    "\n",
    "print('The probability that the line intersects the circle of 5000 Monte-Carlo Simulations is {}'.format(\n",
    "    np.mean(is_intersect)))"
   ],
   "metadata": {
    "collapsed": false,
    "ExecuteTime": {
     "end_time": "2024-02-04T00:11:12.313088992Z",
     "start_time": "2024-02-04T00:11:12.268643129Z"
    }
   },
   "id": "4541bbcc85977ed0",
   "execution_count": 7
  },
  {
   "cell_type": "markdown",
   "source": [
    "**Result:**\n",
    "The probability that the line intersects the circle of 5000 Monte-Carlo Simulations is 0.6378"
   ],
   "metadata": {
    "collapsed": false
   },
   "id": "f000def730193dc8"
  },
  {
   "cell_type": "markdown",
   "source": [
    "# Problem 4"
   ],
   "metadata": {
    "collapsed": false
   },
   "id": "1c0852594e83ebdc"
  },
  {
   "cell_type": "code",
   "outputs": [],
   "source": [
    "tuition = 8400\n",
    "dormitory = 5400\n",
    "\n",
    "state_scholarship = 3000\n",
    "parental_contributions = 4000\n",
    "\n",
    "\n",
    "def random_number(start, end):\n",
    "    \"\"\"\n",
    "    Generates a random floating-point number within the specified range.\n",
    "    \n",
    "    :param start: The lower bound of the range (inclusive).\n",
    "    :param end: The upper bound of the range (exclusive).\n",
    "    :return: A random floating-point number between start and end.\n",
    "    \"\"\"\n",
    "    return np.random.rand() * (end - start) + start\n",
    "\n",
    "\n",
    "def loan_to_range(loan):\n",
    "    \"\"\"\n",
    "    Categorizes a loan amount into predefined ranges.\n",
    "    \n",
    "    The function categorizes the loan amount based on its value:\n",
    "    - Returns -1 for loans >= 5500.\n",
    "    - Returns 1 for loans in the range [0, 1500).\n",
    "    - For loans between 1500 and 5500, it categorizes them into ranges of 500\n",
    "      (e.g., [1500, 2000), [2000, 2500), ..., [5000, 5500)) and returns the\n",
    "      range number (1 to 8).\n",
    "    - Returns None if the loan amount does not fit into any of the categories,\n",
    "      though this condition may not be reached with the current logic.\n",
    "    \n",
    "    :param loan: The loan amount as a float or integer.\n",
    "    :return: The category or range number of the loan, -1, a number from 1 to 8, or None.\n",
    "    \"\"\"\n",
    "    if loan >= 5500:\n",
    "        return -1\n",
    "    if 0 <= loan < 1500:\n",
    "        return 1\n",
    "\n",
    "    for i in range(1, 9):\n",
    "        if 500 * i + 1000 <= loan < 500 * i + 1500:\n",
    "            return i\n",
    "\n",
    "    return None"
   ],
   "metadata": {
    "collapsed": false,
    "ExecuteTime": {
     "end_time": "2024-02-04T00:11:12.313479705Z",
     "start_time": "2024-02-04T00:11:12.311754245Z"
    }
   },
   "id": "385f13b292e69bc",
   "execution_count": 8
  },
  {
   "cell_type": "code",
   "outputs": [
    {
     "name": "stdout",
     "output_type": "stream",
     "text": [
      "The probability distribution for the size of the loan of 1000 simulations is [0.    0.014 0.131 0.205 0.238 0.238 0.131 0.043 0.    0.   ]\n"
     ]
    }
   ],
   "source": [
    "distribution = np.zeros(10)\n",
    "\n",
    "for i in range(1000):\n",
    "    meals = random_number(start=900, end=1350)\n",
    "    entertainment = random_number(start=600, end=1200)\n",
    "    transportation = random_number(start=200, end=600)\n",
    "    books = random_number(start=400, end=800)\n",
    "\n",
    "    waiting_tables = random_number(start=3000, end=5000)\n",
    "    library_aide = random_number(start=2000, end=3000)\n",
    "\n",
    "    loan = -(\n",
    "                waiting_tables + library_aide + state_scholarship + parental_contributions - tuition - dormitory - meals - entertainment - transportation - books)\n",
    "\n",
    "    r = loan_to_range(loan)\n",
    "    if r is not None:\n",
    "        distribution[r] += 1\n",
    "\n",
    "print(\"The probability distribution for the size of the loan of 1000 simulations is {}\".format(\n",
    "    distribution / np.sum(distribution)))"
   ],
   "metadata": {
    "collapsed": false,
    "ExecuteTime": {
     "end_time": "2024-02-04T00:11:12.356187550Z",
     "start_time": "2024-02-04T00:11:12.311913131Z"
    }
   },
   "id": "a382f4a6c6766cf2",
   "execution_count": 9
  },
  {
   "cell_type": "markdown",
   "source": [
    "**Result:**\n",
    "The probability distribution for the size of the loan of 1000 simulations is [0.    0.027 0.113 0.184 0.264 0.229 0.13  0.05  0.003 0.   ]"
   ],
   "metadata": {
    "collapsed": false
   },
   "id": "663751be621fafde"
  },
  {
   "cell_type": "markdown",
   "source": [
    "# Problem 5"
   ],
   "metadata": {
    "collapsed": false
   },
   "id": "d73045690d21e413"
  },
  {
   "cell_type": "code",
   "outputs": [],
   "source": [
    "bus_arrive = np.array([0, 20, 40, 60, 80, 100])\n",
    "\n",
    "\n",
    "def wait_time(passenger_t):\n",
    "    \"\"\"\n",
    "    Calculates the wait time for the next bus based on the passenger's arrival time.\n",
    "    \n",
    "    Iterates through a list of bus arrival times (`bus_arrive`) to find the first bus\n",
    "    that arrives after the passenger. The function then calculates and returns the wait\n",
    "    time by subtracting the passenger's arrival time from the bus's arrival time.\n",
    "    \n",
    "    :param passenger_t: The arrival time of the passenger.\n",
    "    :return: The wait time for the next bus. If no bus arrives after the passenger's arrival time, the function returns `None`.\n",
    "    \"\"\"\n",
    "    for bus_time in bus_arrive:\n",
    "        if passenger_t <= bus_time:\n",
    "            return bus_time - passenger_t"
   ],
   "metadata": {
    "collapsed": false,
    "ExecuteTime": {
     "end_time": "2024-02-04T00:11:12.356575791Z",
     "start_time": "2024-02-04T00:11:12.355782639Z"
    }
   },
   "id": "3a015dcd79adf4c",
   "execution_count": 10
  },
  {
   "cell_type": "code",
   "outputs": [
    {
     "name": "stdout",
     "output_type": "stream",
     "text": [
      "The probability that the passenger will have to wait more than 5 minutes for a bus of 1000 simulations is 0.757\n",
      "The average time that the passenger will wait for a bus of 1000 simulations is 9.984112985603781\n"
     ]
    }
   ],
   "source": [
    "wait_times = []\n",
    "more_than5 = []\n",
    "for i in range(1000):\n",
    "    passenger_t = random_number(10, 90)\n",
    "    wait = wait_time(passenger_t)\n",
    "    wait_times.append(wait)\n",
    "    if wait > 5:\n",
    "        more_than5.append(1)\n",
    "    else:\n",
    "        more_than5.append(0)\n",
    "\n",
    "print(\n",
    "    \"The probability that the passenger will have to wait more than 5 minutes for a bus of 1000 simulations is {}\".format(\n",
    "        np.mean(more_than5)))\n",
    "\n",
    "print(\"The average time that the passenger will wait for a bus of 1000 simulations is {}\".format(np.mean(wait_times)))"
   ],
   "metadata": {
    "collapsed": false,
    "ExecuteTime": {
     "end_time": "2024-02-04T00:11:12.356939542Z",
     "start_time": "2024-02-04T00:11:12.355961946Z"
    }
   },
   "id": "de296f3a548f19a8",
   "execution_count": 11
  },
  {
   "cell_type": "markdown",
   "source": [
    "**Result:**\n",
    "The probability that the passenger will have to wait more than 5 minutes for a bus of 1000 simulations is 0.749\n",
    "The average time that the passenger will wait for a bus of 1000 simulations is 10.0911832564719\n"
   ],
   "metadata": {
    "collapsed": false
   },
   "id": "ab5a61e69762cc1a"
  },
  {
   "cell_type": "markdown",
   "source": [
    "# Problem 6"
   ],
   "metadata": {
    "collapsed": false
   },
   "id": "da6c885fe819f00e"
  },
  {
   "cell_type": "code",
   "outputs": [
    {
     "name": "stdout",
     "output_type": "stream",
     "text": [
      "The probability that the two line-segments intersect of 5000 simulations is 0.2228\n"
     ]
    }
   ],
   "source": [
    "intersects = []\n",
    "\n",
    "for i in range(5000):\n",
    "    line1_endA = np.random.rand(2)\n",
    "    line1_endB = np.random.rand(2)\n",
    "    line2_endA = np.random.rand(2)\n",
    "    line2_endB = np.random.rand(2)\n",
    "    a = np.cross(line1_endA - line1_endB, line1_endA - line2_endA) * np.cross(line1_endA - line1_endB,\n",
    "                                                                              line1_endA - line2_endB)\n",
    "    b = np.cross(line2_endA - line2_endB, line2_endA - line1_endA) * np.cross(line2_endA - line2_endB,\n",
    "                                                                              line2_endA - line1_endB)\n",
    "    if a <= 0 and b <= 0:\n",
    "        intersects.append(1)\n",
    "    else:\n",
    "        intersects.append(0)\n",
    "\n",
    "print(\"The probability that the two line-segments intersect of 5000 simulations is {}\".format(np.mean(intersects)))"
   ],
   "metadata": {
    "collapsed": false,
    "ExecuteTime": {
     "end_time": "2024-02-04T00:11:12.514016052Z",
     "start_time": "2024-02-04T00:11:12.356062220Z"
    }
   },
   "id": "3cf8d410db137f3a",
   "execution_count": 12
  },
  {
   "cell_type": "markdown",
   "source": [
    "**Result:**\n",
    "The probability that the two line-segments intersect of 5000 simulations is 0.238"
   ],
   "metadata": {
    "collapsed": false
   },
   "id": "8a4b8fe88ab3776b"
  },
  {
   "cell_type": "markdown",
   "source": [
    "# Problem 7 "
   ],
   "metadata": {
    "collapsed": false
   },
   "id": "f0db8c6610f74b44"
  },
  {
   "cell_type": "code",
   "outputs": [
    {
     "name": "stdout",
     "output_type": "stream",
     "text": [
      "The probability that the two disks intersect of 5000 simulations is 0.1292\n"
     ]
    }
   ],
   "source": [
    "intersects = []\n",
    "for i in range(5000):\n",
    "    A = np.random.rand(2)\n",
    "    B = np.random.rand(2)\n",
    "    R1 = np.random.uniform(0, min(A[0], 1 - A[0], A[1], 1 - A[1]))\n",
    "    R2 = np.random.uniform(0, min(B[0], 1 - B[0], B[1], 1 - B[1]))\n",
    "    if np.linalg.norm(A - B) < R1 + R2:\n",
    "        intersects.append(1)\n",
    "    else:\n",
    "        intersects.append(0)\n",
    "\n",
    "print(\"The probability that the two disks intersect of 5000 simulations is {}\".format(np.mean(intersects)))"
   ],
   "metadata": {
    "collapsed": false,
    "ExecuteTime": {
     "end_time": "2024-02-04T00:11:12.559911513Z",
     "start_time": "2024-02-04T00:11:12.517249047Z"
    }
   },
   "id": "5cce6230d50745fd",
   "execution_count": 13
  },
  {
   "cell_type": "markdown",
   "source": [
    "**Result:**\n",
    "The probability that the two disks intersect of 5000 simulations is 0.1244"
   ],
   "metadata": {
    "collapsed": false
   },
   "id": "b083463ee41f3aa2"
  }
 ],
 "metadata": {
  "kernelspec": {
   "display_name": "Python 3",
   "language": "python",
   "name": "python3"
  },
  "language_info": {
   "codemirror_mode": {
    "name": "ipython",
    "version": 2
   },
   "file_extension": ".py",
   "mimetype": "text/x-python",
   "name": "python",
   "nbconvert_exporter": "python",
   "pygments_lexer": "ipython2",
   "version": "2.7.6"
  }
 },
 "nbformat": 4,
 "nbformat_minor": 5
}
