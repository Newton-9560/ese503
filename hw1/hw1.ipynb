{
 "cells": [
  {
   "cell_type": "markdown",
   "source": [],
   "metadata": {
    "collapsed": false
   },
   "id": "e9c9427fd009564c"
  },
  {
   "cell_type": "markdown",
   "source": [
    "# Import the package"
   ],
   "metadata": {
    "collapsed": false
   },
   "id": "77fe6bf0d3c160c6"
  },
  {
   "cell_type": "code",
   "outputs": [],
   "source": [
    "import math\n",
    "import numpy as np"
   ],
   "metadata": {
    "collapsed": false,
    "ExecuteTime": {
     "end_time": "2024-02-03T05:48:30.366876922Z",
     "start_time": "2024-02-03T05:48:30.327979354Z"
    }
   },
   "id": "2ba2cfa3a1f6694",
   "execution_count": 1
  },
  {
   "cell_type": "markdown",
   "source": [
    "# Problem 1"
   ],
   "metadata": {
    "collapsed": false
   },
   "id": "2cb02cb611116b1d"
  },
  {
   "cell_type": "code",
   "outputs": [],
   "source": [
    "def get_perimeter(x1, x2, x3, y1, y2, y3):\n",
    "    return ((x1-x2)**2 + (y1 - y2)**2)**0.5 + ((x1-x3)**2 + (y1-y3)**2)**0.5 + ((x2-x3)**2 + (y2-y3)**2)**0.5\n",
    "\n",
    "def get_area(x1, x2, x3, y1, y2, y3):\n",
    "    return 0.5*abs((x1*y2-x2*y1)+(x2*y3-x3*y2)+(x3*y1-x1*y3))\n",
    "\n",
    "def is_obtuse(x1, x2, x3, y1, y2, y3):\n",
    "    vector1 = (x2-x1)*(x3-x1) + (y2-y1)*(y3-y1)\n",
    "    vector2 = (x3-x2)*(x1-x2) + (y3-y2)*(y1-y2)\n",
    "    vector3 = (x1-x3)*(x2-x3) + (y1-y3)*(y2-y3)\n",
    "    if vector1 > 0 and vector2 > 0 and vector3 > 0:\n",
    "        return 0\n",
    "    else:\n",
    "        return 1"
   ],
   "metadata": {
    "collapsed": false,
    "ExecuteTime": {
     "end_time": "2024-02-03T05:48:30.408482390Z",
     "start_time": "2024-02-03T05:48:30.408062802Z"
    }
   },
   "id": "5447f8937532bb41",
   "execution_count": 2
  },
  {
   "cell_type": "code",
   "outputs": [
    {
     "name": "stdout",
     "output_type": "stream",
     "text": [
      "The average perimeter of 5000 Monte-Carlo Simulations is 1.569888706291307\n",
      "The average area of 5000 Monte-Carlo Simulations is 0.07687719985589822\n",
      "The probability that this triangle is obtuse of 5000 Monte-Carlo Simulations is 0.7234\n"
     ]
    }
   ],
   "source": [
    "perimeters = []\n",
    "areas = []\n",
    "obtuses = []\n",
    "for i in range(0,5000):\n",
    "    x1, y1, x2, y2, x3, y3 = tuple(np.random.rand(6))\n",
    "    perimeters.append(get_perimeter(x1, x2, x3, y1, y2, y3))\n",
    "    areas.append(get_area(x1, x2, x3, y1, y2, y3))\n",
    "    obtuses.append(is_obtuse(x1, x2, x3, y1, y2, y3))\n",
    "\n",
    "average_perimeter = np.mean(perimeters)\n",
    "average_area = np.mean(areas)\n",
    "probability_obtuse = np.mean(obtuses)\n",
    "\n",
    "print(\"The average perimeter of 5000 Monte-Carlo Simulations is {}\".format(average_perimeter))\n",
    "print(\"The average area of 5000 Monte-Carlo Simulations is {}\".format(average_area))\n",
    "print(\"The probability that this triangle is obtuse of 5000 Monte-Carlo Simulations is {}\".format(probability_obtuse))"
   ],
   "metadata": {
    "collapsed": false,
    "ExecuteTime": {
     "end_time": "2024-02-03T05:48:30.409022083Z",
     "start_time": "2024-02-03T05:48:30.408265865Z"
    }
   },
   "id": "594cf286e5bc6ab9",
   "execution_count": 3
  },
  {
   "cell_type": "markdown",
   "source": [
    "**Result**:\n",
    "The average perimeter of 5000 Monte-Carlo Simulations is 1.5659643689857432\n",
    "The average area of 5000 Monte-Carlo Simulations is 0.0759041132541655\n",
    "The probability that this triangle is obtuse of 5000 Monte-Carlo Simulations is 0.7306"
   ],
   "metadata": {
    "collapsed": false
   },
   "id": "c1c592006e7d2de7"
  },
  {
   "cell_type": "markdown",
   "source": [
    "# Problem 2"
   ],
   "metadata": {
    "collapsed": false
   },
   "id": "500f87a9b5d611ae"
  },
  {
   "cell_type": "code",
   "outputs": [],
   "source": [
    "def discriminant(a, b, c):\n",
    "    return b*b - 4*a*c\n",
    "\n",
    "def have_real_roots(a, b, c):\n",
    "    if discriminant(a, b, c) >= 0:\n",
    "        return 1\n",
    "    else:\n",
    "        return 0\n",
    "    \n",
    "def solve_equation(a, b, c):\n",
    "    D = discriminant(a, b, c)\n",
    "    root1 = (-b + math.sqrt(D)) / (2*a)\n",
    "    root2 = (-b - math.sqrt(D)) / (2*a)\n",
    "    return root1, root2"
   ],
   "metadata": {
    "collapsed": false,
    "ExecuteTime": {
     "end_time": "2024-02-03T05:48:30.409213466Z",
     "start_time": "2024-02-03T05:48:30.408361449Z"
    }
   },
   "id": "8a208716dbc38f3a",
   "execution_count": 4
  },
  {
   "cell_type": "code",
   "outputs": [
    {
     "name": "stdout",
     "output_type": "stream",
     "text": [
      "The probability that both roots of this equation are real of 5000 Monte-Carlo Simulations is 0.261\n",
      "The root1 of this equation of 5000 Monte-Carlo Simulations is -0.5738302872758999\n",
      "The root2 of this equation of 5000 Monte-Carlo Simulations is -14.753548611761834\n"
     ]
    }
   ],
   "source": [
    "have_real_roots_list = []\n",
    "for i in range(5000):\n",
    "    a, b, c = tuple(np.random.rand(3))\n",
    "    have_real_roots_list.append(have_real_roots(a, b, c))\n",
    "    \n",
    "roots1 = []\n",
    "roots2 = []\n",
    "while True:\n",
    "    a, b, c = tuple(np.random.rand(3))\n",
    "    if discriminant(a, b, c) >= 0:\n",
    "        root1, root2 = solve_equation(a, b, c)\n",
    "        roots1.append(root1)\n",
    "        roots2.append(root2)\n",
    "        if len(roots1) > 5000:\n",
    "            break\n",
    "\n",
    "print(\"The probability that both roots of this equation are real of 5000 Monte-Carlo Simulations is {}\".format(np.mean(have_real_roots_list)))\n",
    "print(\"The root1 of this equation of 5000 Monte-Carlo Simulations is {}\".format(np.mean(roots1)))\n",
    "print(\"The root2 of this equation of 5000 Monte-Carlo Simulations is {}\".format(np.mean(roots2)))"
   ],
   "metadata": {
    "collapsed": false,
    "ExecuteTime": {
     "end_time": "2024-02-03T05:48:30.427896165Z",
     "start_time": "2024-02-03T05:48:30.408443123Z"
    }
   },
   "id": "8f880ef844d6c18",
   "execution_count": 5
  },
  {
   "cell_type": "markdown",
   "source": [
    "**Result:**\n",
    "The probability that both roots of this equation are real of 5000 Monte-Carlo Simulations is 0.2546\n",
    "The root1 of this equation of 5000 Monte-Carlo Simulations is -0.5767142878400107\n",
    "The root2 of this equation of 5000 Monte-Carlo Simulations is -14.32722766903135"
   ],
   "metadata": {
    "collapsed": false
   },
   "id": "6e814f77cf2c3ab4"
  },
  {
   "cell_type": "markdown",
   "source": [
    "# Problem 3"
   ],
   "metadata": {
    "collapsed": false
   },
   "id": "a819024ad0c28e2f"
  },
  {
   "cell_type": "code",
   "outputs": [],
   "source": [
    "def distance_point_to_line_segment(A, B, C):\n",
    "    AB = B - A\n",
    "    AC = C - A\n",
    "    t = np.dot(AC, AB) / np.dot(AB, AB)\n",
    "\n",
    "    if t < 0.0:\n",
    "        nearest_point = A\n",
    "    elif t > 1.0:\n",
    "        nearest_point = B\n",
    "    else:\n",
    "        nearest_point = A + t * AB\n",
    "\n",
    "    return np.linalg.norm(C - nearest_point)\n",
    "\n",
    "def intersect(A, B, C, R):\n",
    "    if distance_point_to_line_segment(A, B, C) <= R:\n",
    "        return 1\n",
    "    else:\n",
    "        return 0"
   ],
   "metadata": {
    "collapsed": false,
    "ExecuteTime": {
     "end_time": "2024-02-03T05:48:30.428233837Z",
     "start_time": "2024-02-03T05:48:30.426219062Z"
    }
   },
   "id": "65b34ceb403b6f91",
   "execution_count": 6
  },
  {
   "cell_type": "code",
   "outputs": [
    {
     "name": "stdout",
     "output_type": "stream",
     "text": [
      "The probability that the line intersects the circle of 5000 Monte-Carlo Simulations is 0.6504\n"
     ]
    }
   ],
   "source": [
    "is_intersect = []\n",
    "for i in range(5000):\n",
    "    end1 = np.random.rand(2)\n",
    "    end2 = np.random.rand(2)\n",
    "    center = np.random.rand(2)\n",
    "    radius = np.random.rand()\n",
    "    is_intersect.append(intersect(end1, end2, center, radius))\n",
    "    \n",
    "print('The probability that the line intersects the circle of 5000 Monte-Carlo Simulations is {}'.format(np.mean(is_intersect)))"
   ],
   "metadata": {
    "collapsed": false,
    "ExecuteTime": {
     "end_time": "2024-02-03T05:48:30.458629908Z",
     "start_time": "2024-02-03T05:48:30.428908828Z"
    }
   },
   "id": "4541bbcc85977ed0",
   "execution_count": 7
  },
  {
   "cell_type": "markdown",
   "source": [
    "**Result:**\n",
    "The probability that the line intersects the circle of 5000 Monte-Carlo Simulations is 0.6378"
   ],
   "metadata": {
    "collapsed": false
   },
   "id": "f000def730193dc8"
  },
  {
   "cell_type": "code",
   "outputs": [],
   "source": [],
   "metadata": {
    "collapsed": false,
    "ExecuteTime": {
     "end_time": "2024-02-03T05:48:30.504167331Z",
     "start_time": "2024-02-03T05:48:30.457781597Z"
    }
   },
   "id": "bdb5539be3a5561b",
   "execution_count": 7
  }
 ],
 "metadata": {
  "kernelspec": {
   "display_name": "Python 3",
   "language": "python",
   "name": "python3"
  },
  "language_info": {
   "codemirror_mode": {
    "name": "ipython",
    "version": 2
   },
   "file_extension": ".py",
   "mimetype": "text/x-python",
   "name": "python",
   "nbconvert_exporter": "python",
   "pygments_lexer": "ipython2",
   "version": "2.7.6"
  }
 },
 "nbformat": 4,
 "nbformat_minor": 5
}
