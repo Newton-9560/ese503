{
 "cells": [
  {
   "cell_type": "markdown",
   "source": [],
   "metadata": {
    "collapsed": false
   },
   "id": "e9c9427fd009564c"
  },
  {
   "cell_type": "markdown",
   "source": [
    "# Import the package"
   ],
   "metadata": {
    "collapsed": false
   },
   "id": "77fe6bf0d3c160c6"
  },
  {
   "cell_type": "code",
   "outputs": [],
   "source": [
    "import math\n",
    "\n",
    "import numpy as np\n",
    "from tqdm.notebook import tqdm"
   ],
   "metadata": {
    "collapsed": false,
    "ExecuteTime": {
     "end_time": "2024-02-03T05:10:04.640332913Z",
     "start_time": "2024-02-03T05:10:04.597579484Z"
    }
   },
   "id": "2ba2cfa3a1f6694",
   "execution_count": 14
  },
  {
   "cell_type": "markdown",
   "source": [
    "# Problem 1"
   ],
   "metadata": {
    "collapsed": false
   },
   "id": "2cb02cb611116b1d"
  },
  {
   "cell_type": "code",
   "outputs": [],
   "source": [
    "def get_perimeter(x1, x2, x3, y1, y2, y3):\n",
    "    return ((x1-x2)**2 + (y1 - y2)**2)**0.5 + ((x1-x3)**2 + (y1-y3)**2)**0.5 + ((x2-x3)**2 + (y2-y3)**2)**0.5\n",
    "\n",
    "def get_area(x1, x2, x3, y1, y2, y3):\n",
    "    return 0.5*abs((x1*y2-x2*y1)+(x2*y3-x3*y2)+(x3*y1-x1*y3))\n",
    "\n",
    "def is_obtuse(x1, x2, x3, y1, y2, y3):\n",
    "    vector1 = (x2-x1)*(x3-x1) + (y2-y1)*(y3-y1)\n",
    "    vector2 = (x3-x2)*(x1-x2) + (y3-y2)*(y1-y2)\n",
    "    vector3 = (x1-x3)*(x2-x3) + (y1-y3)*(y2-y3)\n",
    "    if vector1 > 0 and vector2 > 0 and vector3 > 0:\n",
    "        return 0\n",
    "    else:\n",
    "        return 1"
   ],
   "metadata": {
    "collapsed": false,
    "ExecuteTime": {
     "end_time": "2024-02-03T04:55:55.315238155Z",
     "start_time": "2024-02-03T04:55:55.314497570Z"
    }
   },
   "id": "5447f8937532bb41",
   "execution_count": 12
  },
  {
   "cell_type": "code",
   "outputs": [
    {
     "data": {
      "text/plain": "  0%|          | 0/5000 [00:00<?, ?it/s]",
      "application/vnd.jupyter.widget-view+json": {
       "version_major": 2,
       "version_minor": 0,
       "model_id": "e3d117bf14094ac0b9abd8fa773518d1"
      }
     },
     "metadata": {},
     "output_type": "display_data"
    },
    {
     "name": "stdout",
     "output_type": "stream",
     "text": [
      "The average perimeter of 5000 Monte-Carlo Simulations is 1.5659643689857432\n",
      "The average area of 5000 Monte-Carlo Simulations is 0.0759041132541655\n",
      "The probability that this triangle is obtuse of 5000 Monte-Carlo Simulations is 0.7306\n"
     ]
    }
   ],
   "source": [
    "perimeters = []\n",
    "areas = []\n",
    "obtuses = []\n",
    "for i in tqdm(range(0,5000)):\n",
    "    x1, y1, x2, y2, x3, y3 = tuple(np.random.rand(6))\n",
    "    perimeters.append(get_perimeter(x1, x2, x3, y1, y2, y3))\n",
    "    areas.append(get_area(x1, x2, x3, y1, y2, y3))\n",
    "    obtuses.append(is_obtuse(x1, x2, x3, y1, y2, y3))\n",
    "\n",
    "average_perimeter = np.mean(perimeters)\n",
    "average_area = np.mean(areas)\n",
    "probability_obtuse = np.mean(obtuses)\n",
    "\n",
    "print(\"The average perimeter of 5000 Monte-Carlo Simulations is {}\".format(average_perimeter))\n",
    "print(\"The average area of 5000 Monte-Carlo Simulations is {}\".format(average_area))\n",
    "print(\"The probability that this triangle is obtuse of 5000 Monte-Carlo Simulations is {}\".format(probability_obtuse))"
   ],
   "metadata": {
    "collapsed": false,
    "ExecuteTime": {
     "end_time": "2024-02-03T04:55:55.944454536Z",
     "start_time": "2024-02-03T04:55:55.880385429Z"
    }
   },
   "id": "594cf286e5bc6ab9",
   "execution_count": 13
  },
  {
   "cell_type": "markdown",
   "source": [
    "**Result**:\n",
    "The average perimeter of 5000 Monte-Carlo Simulations is 1.5659643689857432\n",
    "The average area of 5000 Monte-Carlo Simulations is 0.0759041132541655\n",
    "The probability that this triangle is obtuse of 5000 Monte-Carlo Simulations is 0.7306"
   ],
   "metadata": {
    "collapsed": false
   },
   "id": "c1c592006e7d2de7"
  },
  {
   "cell_type": "markdown",
   "source": [
    "# Problem 2"
   ],
   "metadata": {
    "collapsed": false
   },
   "id": "500f87a9b5d611ae"
  },
  {
   "cell_type": "code",
   "outputs": [],
   "source": [
    "def discriminant(a, b, c):\n",
    "    return b*b - 4*a*c\n",
    "\n",
    "def have_real_roots(a, b, c):\n",
    "    if discriminant(a, b, c) >= 0:\n",
    "        return 1\n",
    "    else:\n",
    "        return 0\n",
    "    \n",
    "def solve_equation(a, b, c):\n",
    "    D = discriminant(a, b, c)\n",
    "    root1 = (-b + math.sqrt(D)) / (2*a)\n",
    "    root2 = (-b - math.sqrt(D)) / (2*a)\n",
    "    return root1, root2"
   ],
   "metadata": {
    "collapsed": false,
    "ExecuteTime": {
     "end_time": "2024-02-03T05:10:11.387526913Z",
     "start_time": "2024-02-03T05:10:11.384241476Z"
    }
   },
   "id": "8a208716dbc38f3a",
   "execution_count": 15
  },
  {
   "cell_type": "code",
   "outputs": [
    {
     "data": {
      "text/plain": "  0%|          | 0/5000 [00:00<?, ?it/s]",
      "application/vnd.jupyter.widget-view+json": {
       "version_major": 2,
       "version_minor": 0,
       "model_id": "359ad06b41744597abc7dab87ad23819"
      }
     },
     "metadata": {},
     "output_type": "display_data"
    },
    {
     "name": "stdout",
     "output_type": "stream",
     "text": [
      "The probability that both roots of this equation are real of 5000 Monte-Carlo Simulations is 0.2546\n",
      "The root1 of this equation of 5000 Monte-Carlo Simulations is -0.5767142878400107\n",
      "The root2 of this equation of 5000 Monte-Carlo Simulations is -14.32722766903135\n"
     ]
    }
   ],
   "source": [
    "have_real_roots_list = []\n",
    "for i in tqdm(range(5000)):\n",
    "    a, b, c = tuple(np.random.rand(3))\n",
    "    have_real_roots_list.append(have_real_roots(a, b, c))\n",
    "    \n",
    "roots1 = []\n",
    "roots2 = []\n",
    "while True:\n",
    "    a, b, c = tuple(np.random.rand(3))\n",
    "    if discriminant(a, b, c) >= 0:\n",
    "        root1, root2 = solve_equation(a, b, c)\n",
    "        roots1.append(root1)\n",
    "        roots2.append(root2)\n",
    "        if len(roots1) > 5000:\n",
    "            break\n",
    "\n",
    "print(\"The probability that both roots of this equation are real of 5000 Monte-Carlo Simulations is {}\".format(np.mean(have_real_roots_list)))\n",
    "print(\"The root1 of this equation of 5000 Monte-Carlo Simulations is {}\".format(np.mean(roots1)))\n",
    "print(\"The root2 of this equation of 5000 Monte-Carlo Simulations is {}\".format(np.mean(roots2)))"
   ],
   "metadata": {
    "collapsed": false,
    "ExecuteTime": {
     "end_time": "2024-02-03T05:15:05.352466953Z",
     "start_time": "2024-02-03T05:15:05.297665586Z"
    }
   },
   "id": "8f880ef844d6c18",
   "execution_count": 25
  },
  {
   "cell_type": "markdown",
   "source": [
    "**Result:**\n",
    "The probability that both roots of this equation are real of 5000 Monte-Carlo Simulations is 0.2546\n",
    "The root1 of this equation of 5000 Monte-Carlo Simulations is -0.5767142878400107\n",
    "The root2 of this equation of 5000 Monte-Carlo Simulations is -14.32722766903135"
   ],
   "metadata": {
    "collapsed": false
   },
   "id": "6e814f77cf2c3ab4"
  },
  {
   "cell_type": "markdown",
   "source": [
    "# Problem 3"
   ],
   "metadata": {
    "collapsed": false
   },
   "id": "a819024ad0c28e2f"
  },
  {
   "cell_type": "code",
   "outputs": [],
   "source": [
    "def distance_point_to_line_segment(A, B, C):\n",
    "    AB = B - A\n",
    "    AC = C - A\n",
    "    t = np.dot(AC, AB) / np.dot(AB, AB)\n",
    "\n",
    "    if t < 0.0:\n",
    "        nearest_point = A\n",
    "    elif t > 1.0:\n",
    "        nearest_point = B\n",
    "    else:\n",
    "        nearest_point = A + t * AB\n",
    "\n",
    "    return np.linalg.norm(C - nearest_point)\n",
    "\n",
    "def intersect(A, B, C, R):\n",
    "    if distance_point_to_line_segment(A, B, C) <= R:\n",
    "        return 1\n",
    "    else:\n",
    "        return 0"
   ],
   "metadata": {
    "collapsed": false,
    "ExecuteTime": {
     "end_time": "2024-02-03T05:39:15.952206686Z",
     "start_time": "2024-02-03T05:39:15.908517869Z"
    }
   },
   "id": "65b34ceb403b6f91",
   "execution_count": 26
  },
  {
   "cell_type": "code",
   "outputs": [
    {
     "data": {
      "text/plain": "  0%|          | 0/5000 [00:00<?, ?it/s]",
      "application/vnd.jupyter.widget-view+json": {
       "version_major": 2,
       "version_minor": 0,
       "model_id": "b9fbd45a3f9e4afca686ff2b9eba9d4d"
      }
     },
     "metadata": {},
     "output_type": "display_data"
    },
    {
     "name": "stdout",
     "output_type": "stream",
     "text": [
      "The probability that the line intersects the circle of 5000 Monte-Carlo Simulations is 0.6378\n"
     ]
    }
   ],
   "source": [
    "is_intersect = []\n",
    "for i in tqdm(range(5000)):\n",
    "    end1 = np.random.rand(2)\n",
    "    end2 = np.random.rand(2)\n",
    "    center = np.random.rand(2)\n",
    "    radius = np.random.rand()\n",
    "    is_intersect.append(intersect(end1, end2, center, radius))\n",
    "    \n",
    "print('The probability that the line intersects the circle of 5000 Monte-Carlo Simulations is {}'.format(np.mean(is_intersect)))"
   ],
   "metadata": {
    "collapsed": false,
    "ExecuteTime": {
     "end_time": "2024-02-03T05:45:15.852722619Z",
     "start_time": "2024-02-03T05:45:15.809301696Z"
    }
   },
   "id": "4541bbcc85977ed0",
   "execution_count": 30
  },
  {
   "cell_type": "markdown",
   "source": [
    "**Result:**\n",
    "The probability that the line intersects the circle of 5000 Monte-Carlo Simulations is 0.6378"
   ],
   "metadata": {
    "collapsed": false
   },
   "id": "f000def730193dc8"
  },
  {
   "cell_type": "code",
   "outputs": [],
   "source": [],
   "metadata": {
    "collapsed": false
   },
   "id": "bdb5539be3a5561b"
  }
 ],
 "metadata": {
  "kernelspec": {
   "display_name": "Python 3",
   "language": "python",
   "name": "python3"
  },
  "language_info": {
   "codemirror_mode": {
    "name": "ipython",
    "version": 2
   },
   "file_extension": ".py",
   "mimetype": "text/x-python",
   "name": "python",
   "nbconvert_exporter": "python",
   "pygments_lexer": "ipython2",
   "version": "2.7.6"
  }
 },
 "nbformat": 4,
 "nbformat_minor": 5
}
