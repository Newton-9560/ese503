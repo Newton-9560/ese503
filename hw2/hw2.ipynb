{
 "cells": [
  {
   "cell_type": "markdown",
   "source": [
    "# Homework #2\n",
    "**Name:** Hanwen Li\n",
    "**Email:** lihanwen@seas.upenn.edu  "
   ],
   "metadata": {
    "collapsed": false
   },
   "id": "409b72b483018557"
  },
  {
   "cell_type": "code",
   "outputs": [],
   "source": [
    "import numpy as np"
   ],
   "metadata": {
    "collapsed": false,
    "ExecuteTime": {
     "end_time": "2024-02-15T02:29:50.254236874Z",
     "start_time": "2024-02-15T02:29:50.222711337Z"
    }
   },
   "id": "74a8cbcde4d91f1",
   "execution_count": 2
  },
  {
   "cell_type": "markdown",
   "source": [
    "## Problem #1"
   ],
   "metadata": {
    "collapsed": false
   },
   "id": "f69a7a48ad51cc40"
  },
  {
   "cell_type": "markdown",
   "source": [],
   "metadata": {
    "collapsed": false
   },
   "id": "c1a4120e9c240b1c"
  },
  {
   "cell_type": "code",
   "outputs": [],
   "source": [
    "class Problem1:\n",
    "    def __init__(self, num):\n",
    "        self.checkout_time = None\n",
    "        self.counter_time = None\n",
    "        self.interarrival_time = None\n",
    "        self.num = num\n",
    "        self.interarrival = {'time':np.arange(1,9), 'p':np.array([0.05,0.1,0.15,0.2,0.2,0.15,0.1,0.05])}\n",
    "        self.counter = {'time':np.arange(1,7), 'p':np.array([0.1,0.15,0.2,0.3,0.2,0.05])}\n",
    "        self.checkout = {'time':np.arange(1,5), 'p':np.array([0.2,0.4,0.3,0.1])}\n",
    "        \n",
    "        self.get_interarrival_time(num)\n",
    "        self.get_counter_time(num)\n",
    "        self.get_checkout_time(num)\n",
    "        \n",
    "    def get_interarrival_time(self, length):\n",
    "        t = np.zeros(length)\n",
    "        for i in range(length):\n",
    "            t[i] = np.random.choice(self.interarrival['time'], p=self.interarrival['p'])\n",
    "        self.interarrival_time = t\n",
    "    \n",
    "    def get_counter_time(self, length):\n",
    "        t = np.zeros(length)\n",
    "        for i in range(length):\n",
    "            t[i] = np.random.choice(self.counter['time'], p=self.counter['p'])\n",
    "        self.counter_time = t\n",
    "    \n",
    "    def get_checkout_time(self, length):\n",
    "        t = np.zeros(length)\n",
    "        for i in range(length):\n",
    "            t[i] = np.random.choice(self.checkout['time'], p=self.checkout['p'])\n",
    "        self.checkout_time = t\n",
    "    \n",
    "    def get_wait(self):\n",
    "        wait_counter = []\n",
    "        wait_checkout = []\n",
    "        wait_time_counter = []\n",
    "        wait_time_checkout = []\n",
    "        \n",
    "        for i in range(1, self.num):\n",
    "            wt_counter = 0\n",
    "            wt_checkout = 0\n",
    "            if self.interarrival_time[i] <= self.counter_time[i-1]:\n",
    "                wait_counter.append(1)\n",
    "                wt_counter += self.counter_time[i-1] - self.interarrival_time[i]\n",
    "                if self.checkout_time[i-1] - self.counter_time[i] >= 0:\n",
    "                    wt_checkout += self.checkout_time[i-1] - self.counter_time[i]\n",
    "                    wait_checkout.append(1)\n",
    "                else:\n",
    "                    wait_checkout.append(0)  \n",
    "                \n",
    "            elif self.counter_time[i-1] < self.interarrival_time[i] <= self.counter_time[i-1] + self.checkout_time[i-1]:\n",
    "                wait_counter.append(0)\n",
    "                if self.checkout_time[i-1] + self.counter_time[i-1] - self.counter_time[i] - self.interarrival_time[i] >= 0:\n",
    "                    wt_checkout += self.checkout_time[i-1] + self.counter_time[i-1] - self.counter_time[i] - self.interarrival_time[i]\n",
    "                    wait_checkout.append(1)\n",
    "                else:\n",
    "                    wait_checkout.append(0)\n",
    "            else:\n",
    "                wait_counter.append(0)\n",
    "                wait_checkout.append(0)\n",
    "            wait_time_checkout.append(wt_checkout)\n",
    "            wait_time_counter.append(wt_counter)\n",
    "        return wait_time_counter, wait_time_checkout, wait_counter, wait_checkout"
   ],
   "metadata": {
    "collapsed": false,
    "ExecuteTime": {
     "end_time": "2024-02-15T02:29:51.714163004Z",
     "start_time": "2024-02-15T02:29:51.705108511Z"
    }
   },
   "id": "190db2add8fdb5df",
   "execution_count": 3
  },
  {
   "cell_type": "code",
   "outputs": [],
   "source": [
    "problem = Problem1(500)\n",
    "w_time_counter, w_time_checkout, w_counter, w_checkout = problem.get_wait()"
   ],
   "metadata": {
    "collapsed": false,
    "ExecuteTime": {
     "end_time": "2024-02-15T02:34:38.157259185Z",
     "start_time": "2024-02-15T02:34:38.138201607Z"
    }
   },
   "id": "ab5c30941a44351d",
   "execution_count": 13
  },
  {
   "cell_type": "code",
   "outputs": [
    {
     "name": "stdout",
     "output_type": "stream",
     "text": [
      "0.40480961923847697\n",
      "0.10220440881763528\n",
      "0.3727454909819639\n",
      "0.1683366733466934\n"
     ]
    }
   ],
   "source": [
    "print(np.mean(w_time_counter))\n",
    "print(np.mean(w_time_checkout))\n",
    "print(np.mean(w_counter))\n",
    "print(np.mean(w_checkout))"
   ],
   "metadata": {
    "collapsed": false,
    "ExecuteTime": {
     "end_time": "2024-02-15T02:34:38.422287935Z",
     "start_time": "2024-02-15T02:34:38.419804488Z"
    }
   },
   "id": "ec288c0d6a4c817c",
   "execution_count": 14
  },
  {
   "cell_type": "code",
   "outputs": [
    {
     "data": {
      "text/plain": "{'time': array([1, 2, 3, 4, 5, 6, 7, 8]),\n 'p': array([0.05, 0.1 , 0.15, 0.2 , 0.2 , 0.15, 0.1 , 0.05])}"
     },
     "execution_count": 15,
     "metadata": {},
     "output_type": "execute_result"
    }
   ],
   "source": [
    "problem.interarrival"
   ],
   "metadata": {
    "collapsed": false,
    "ExecuteTime": {
     "end_time": "2024-02-15T02:39:22.535785561Z",
     "start_time": "2024-02-15T02:39:22.488192828Z"
    }
   },
   "id": "827bdd4f88c8b653",
   "execution_count": 15
  },
  {
   "cell_type": "code",
   "outputs": [],
   "source": [],
   "metadata": {
    "collapsed": false
   },
   "id": "10f93d448cfc4448"
  }
 ],
 "metadata": {
  "kernelspec": {
   "display_name": "Python 3",
   "language": "python",
   "name": "python3"
  },
  "language_info": {
   "codemirror_mode": {
    "name": "ipython",
    "version": 2
   },
   "file_extension": ".py",
   "mimetype": "text/x-python",
   "name": "python",
   "nbconvert_exporter": "python",
   "pygments_lexer": "ipython2",
   "version": "2.7.6"
  }
 },
 "nbformat": 4,
 "nbformat_minor": 5
}
