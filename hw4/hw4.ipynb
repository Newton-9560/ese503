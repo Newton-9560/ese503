{
 "cells": [
  {
   "cell_type": "markdown",
   "metadata": {},
   "source": [
    "# Homework #4\n",
    "**Name:** Hanwen Li\n",
    "**Email:** lihanwen@seas.upenn.edu  "
   ]
  },
  {
   "cell_type": "code",
   "execution_count": 1,
   "metadata": {},
   "outputs": [],
   "source": [
    "import numpy as np\n",
    "def get_divider(id):\n",
    "    print('**************************************************** Problem {} ****************************************************'.format(id))"
   ]
  },
  {
   "cell_type": "markdown",
   "metadata": {},
   "source": [
    "## Problem#2"
   ]
  },
  {
   "cell_type": "code",
   "execution_count": 2,
   "metadata": {},
   "outputs": [],
   "source": [
    "class Problem1():\n",
    "  def __init__(self):\n",
    "    get_divider(1)\n",
    "\n",
    "    self.mean = 8\n",
    "    self.dev = 2\n",
    "\n",
    "  def get_interval(self):\n",
    "    return np.random.normal(self.mean, self.dev)\n",
    "\n",
    "  def simulate(self, num):\n",
    "    interval_times = []\n",
    "    for i in range(num):\n",
    "      interval_time = 0\n",
    "      for i in range(9, 16):\n",
    "        interval_time += (self.get_interval())\n",
    "      interval_times.append(interval_time)\n",
    "    return np.mean(np.array(interval_times) <= 55)"
   ]
  },
  {
   "cell_type": "code",
   "execution_count": 6,
   "metadata": {},
   "outputs": [
    {
     "name": "stdout",
     "output_type": "stream",
     "text": [
      "**************************************************** Problem 1 ****************************************************\n",
      "The result of 3000 simulations is 0.4177\n"
     ]
    }
   ],
   "source": [
    "problem = Problem1()\n",
    "\n",
    "print(\"The result of 3000 simulations is {:.4f}\".format(problem.simulate(3000)))"
   ]
  },
  {
   "cell_type": "markdown",
   "metadata": {},
   "source": [
    "### Result\n",
    "The result of 3000 simulations is 0.4177"
   ]
  },
  {
   "cell_type": "markdown",
   "metadata": {},
   "source": [
    "## Problem#3"
   ]
  },
  {
   "cell_type": "code",
   "execution_count": 7,
   "metadata": {},
   "outputs": [],
   "source": [
    "class Problem3():\n",
    "  def __init__(self):\n",
    "    get_divider(3)\n",
    "    self.pro = [0.1, 0.2, 0.3, 0.4]\n",
    "    self.values = [1/3, 1/2, 2/3, -1]\n",
    "    self.P = None\n",
    "\n",
    "  def get_P(self):\n",
    "    P = np.random.choice(self.values, p=self.pro)\n",
    "    if P == -1:\n",
    "      self.P = np.random.uniform()\n",
    "    else:\n",
    "      self.P = P\n",
    "\n",
    "  def simulate(self, num):\n",
    "    Ps = []\n",
    "    for i in range(num):\n",
    "      self.get_P()\n",
    "      Ps.append(self.P)\n",
    "    return np.mean(Ps)"
   ]
  },
  {
   "cell_type": "code",
   "execution_count": 8,
   "metadata": {},
   "outputs": [
    {
     "name": "stdout",
     "output_type": "stream",
     "text": [
      "**************************************************** Problem 3 ****************************************************\n",
      "The result of 3000 simulations is 0.534, the theoretical result is 0.533\n"
     ]
    }
   ],
   "source": [
    "problem = Problem3()\n",
    "\n",
    "print(\"The result of 3000 simulations is {:.3f}, the theoretical result is {:.3f}\".format(problem.simulate(3000), 8/15))"
   ]
  },
  {
   "cell_type": "markdown",
   "metadata": {},
   "source": [
    "### Result\n",
    "The result of 3000 simulations is 0.534, the theoretical result is 0.533"
   ]
  },
  {
   "cell_type": "markdown",
   "metadata": {},
   "source": [
    "## Problem#4"
   ]
  },
  {
   "cell_type": "code",
   "execution_count": 9,
   "metadata": {},
   "outputs": [],
   "source": [
    "class Problem4():\n",
    "  def __init__(self, num):\n",
    "    get_divider(4)\n",
    "    self.X = None\n",
    "    self.Y = None\n",
    "    self.num = num\n",
    "\n",
    "  def get_lifetime(self):\n",
    "    self.X = np.random.exponential(1000, self.num)\n",
    "\n",
    "  def get_checktime(self):\n",
    "    self.Y = np.random.geometric(1/1500, self.num)\n",
    "\n",
    "  def simulate(self):\n",
    "    self.get_lifetime()\n",
    "    self.get_checktime()\n",
    "    return np.mean(self.Y >= self.X)"
   ]
  },
  {
   "cell_type": "code",
   "execution_count": 10,
   "metadata": {},
   "outputs": [
    {
     "name": "stdout",
     "output_type": "stream",
     "text": [
      "**************************************************** Problem 4 ****************************************************\n",
      "The result of 5000 simulations is 0.591\n"
     ]
    }
   ],
   "source": [
    "problem = Problem4(5000)\n",
    "\n",
    "print(\"The result of 5000 simulations is {:.3f}\".format(problem.simulate()))"
   ]
  },
  {
   "cell_type": "markdown",
   "metadata": {},
   "source": [
    "### Result\n",
    "The result of 5000 simulations is 0.591"
   ]
  },
  {
   "cell_type": "markdown",
   "metadata": {},
   "source": [
    "## Problem#6"
   ]
  },
  {
   "cell_type": "code",
   "execution_count": 17,
   "metadata": {},
   "outputs": [],
   "source": [
    "class Problem6():\n",
    "  def __init__(self):\n",
    "    get_divider(6)\n",
    "    self.a = None\n",
    "    self.b = None\n",
    "    self.X = None\n",
    "    self.Y = None\n",
    "\n",
    "  def get_XY(self):\n",
    "    self.X = np.random.uniform(self.a, self.b)\n",
    "    self.Y = np.random.uniform(self.a, self.b)\n",
    "\n",
    "  def set_ab(self, a, b):\n",
    "    self.a = a\n",
    "    self.b = b\n",
    "  \n",
    "  def cdf_z(self, z):\n",
    "    if self.a**2 <= z <= self.a*self.b:\n",
    "        return (z * np.log(z/self.a**2) - z + self.a**2)/(self.b-self.a)**2\n",
    "    elif self.a*self.b < z <= self.b**2:\n",
    "        return (z * np.log(self.b**2/z) + z - 2*self.a*self.b + self.a**2)/(self.b-self.a)**2\n",
    "\n",
    "  def simulate(self, a, b, c, d, num=4000):\n",
    "    self.set_ab(a, b)\n",
    "    theory = self.cdf_z(d) - self.cdf_z(c)\n",
    "    s = []\n",
    "    areas = []\n",
    "    for i in range(num):\n",
    "      self.get_XY()\n",
    "      areas.append(self.X*self.Y)\n",
    "      if c <= self.X*self.Y <= d:\n",
    "        s.append(1)\n",
    "      else:\n",
    "        s.append(0)\n",
    "    print(\"The theoretical result is {:.3f} and the simulation result is {:.3f}. And the expectation of area is {:.3f} while the theoretical result is {}\".format(theory, np.mean(s), np.mean(areas),((a+b)/2)**2))\n"
   ]
  },
  {
   "cell_type": "code",
   "execution_count": 18,
   "metadata": {},
   "outputs": [
    {
     "name": "stdout",
     "output_type": "stream",
     "text": [
      "**************************************************** Problem 6 ****************************************************\n",
      "The theoretical result is 0.895 and the simulation result is 0.899. And the expectation of area is 5608.736 while the theoretical result is 5625.0\n",
      "The theoretical result is 0.477 and the simulation result is 0.470. And the expectation of area is 225.943 while the theoretical result is 225.0\n",
      "The theoretical result is 0.103 and the simulation result is 0.095. And the expectation of area is 424878.891 while the theoretical result is 422500.0\n"
     ]
    }
   ],
   "source": [
    "problem = Problem6()\n",
    "\n",
    "problem.simulate(50, 100, 3000, 8000)\n",
    "problem.simulate(10, 20, 200, 300)\n",
    "problem.simulate(300, 1000, 300*600, 300*800)"
   ]
  },
  {
   "cell_type": "markdown",
   "metadata": {},
   "source": [
    "### Result\n",
    "The theoretical result is 0.895 and the simulation result is 0.899. And the expectation of area is 5608.736 while the theoretical result is 5625.0\n",
    "\n",
    "The theoretical result is 0.477 and the simulation result is 0.470. And the expectation of area is 225.943 while the theoretical result is 225.0\n",
    "\n",
    "The theoretical result is 0.103 and the simulation result is 0.095. And the expectation of area is 424878.891 while the theoretical result is 422500.0"
   ]
  },
  {
   "cell_type": "markdown",
   "metadata": {},
   "source": [
    "## Simulation Problem #2"
   ]
  },
  {
   "cell_type": "code",
   "execution_count": 40,
   "metadata": {},
   "outputs": [],
   "source": [
    "class SimulationProblem:\n",
    "    def __init__(self):\n",
    "        get_divider('Simulation 2')\n",
    "\n",
    "        self.max_capacity = 12\n",
    "        self.floors = [i+1 for i in range(10)]\n",
    "\n",
    "        self.current = None\n",
    "\n",
    "    def get_on(self):\n",
    "        self.current += np.random.choice([i for i in range(self.max_capacity-self.current+1)])\n",
    "        \n",
    "    def get_off(self):\n",
    "        self.current -= np.random.choice([i for i in range(self.current+1)])\n",
    "\n",
    "    def simulate(self, num):\n",
    "        people = []\n",
    "        for n in range(num):\n",
    "            self.current = 0\n",
    "            for m in (self.floors + self.floors):\n",
    "                self.get_off()\n",
    "                self.get_on()\n",
    "                people.append(self.current)\n",
    "        \n",
    "        print(\"The average number of people on the elevator at any given time is {:.2f}\".\n",
    "              format(np.mean(people)))\n",
    "        \n",
    "        print('The probability that the elevator is empty at any given time is {:.2f}'.\n",
    "              format(np.mean(np.array(people)==0)))\n",
    "        \n",
    "        print('The probability that the elevator is filled at any given time is {:.2f}'.\n",
    "              format(np.mean(np.array(people)==self.max_capacity)))"
   ]
  },
  {
   "cell_type": "code",
   "execution_count": 41,
   "metadata": {},
   "outputs": [
    {
     "name": "stdout",
     "output_type": "stream",
     "text": [
      "**************************************************** Problem Simulation 2 ****************************************************\n",
      "The average number of people on the elevator at any given time is 7.88\n",
      "The probability that the elevator is empty at any given time is 0.02\n",
      "The probability that the elevator is filled at any given time is 0.14\n"
     ]
    }
   ],
   "source": [
    "problem = SimulationProblem()\n",
    "\n",
    "problem.simulate(1000)"
   ]
  },
  {
   "cell_type": "markdown",
   "metadata": {},
   "source": [
    "### Result\n",
    "The average number of people on the elevator at any given time is 7.88\n",
    "\n",
    "The probability that the elevator is empty at any given time is 0.02\n",
    "\n",
    "The probability that the elevator is filled at any given time is 0.14"
   ]
  }
 ],
 "metadata": {
  "kernelspec": {
   "display_name": "base",
   "language": "python",
   "name": "python3"
  },
  "language_info": {
   "codemirror_mode": {
    "name": "ipython",
    "version": 3
   },
   "file_extension": ".py",
   "mimetype": "text/x-python",
   "name": "python",
   "nbconvert_exporter": "python",
   "pygments_lexer": "ipython3",
   "version": "3.11.5"
  }
 },
 "nbformat": 4,
 "nbformat_minor": 2
}
